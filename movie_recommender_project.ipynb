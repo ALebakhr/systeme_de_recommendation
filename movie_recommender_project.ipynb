{
 "cells": [
  {
   "cell_type": "markdown",
   "id": "5327af92",
   "metadata": {},
   "source": [
    "# Projet de Système de Recommandation de Films\n",
    "\n",
    "Ce document présente une étude approfondie sur la conception et l'évaluation de différents algorithmes de recommandation de films. L'objectif est de comparer plusieurs approches de filtrage collaboratif et de factorisation de matrices, ainsi que des méthodes basées sur la popularité et la similarité entre items. Chaque section détaille la méthodologie, les choix d'implémentation, et propose une analyse critique des résultats obtenus.\n",
    "\n",
    "Le notebook est structuré comme suit :\n",
    "- **Chargement et exploration des données** : présentation des jeux de données et analyse descriptive.\n",
    "- **Préparation des données** : nettoyage, fusion et préparation pour l'entraînement des modèles.\n",
    "- **Implémentation des algorithmes de recommandation** : filtrage collaboratif (KNN utilisateur et item), factorisation de matrices (SVD, NMF), popularité, et filtrage collaboratif item-item (IBCF).\n",
    "- **Évaluation et comparaison des performances** : analyse quantitative des résultats.\n",
    "- **Visualisation et analyse** : illustrations graphiques des distributions et performances.\n",
    "- **Exemples de recommandations** : génération de recommandations personnalisées pour un utilisateur donné.\n",
    "\n",
    "Ce rapport vise à fournir une vue d'ensemble complète et reproductible des techniques de recommandation appliquées au domaine cinématographique."
   ]
  },
  {
   "cell_type": "markdown",
   "id": "705f6f34",
   "metadata": {},
   "source": [
    "## 1. Chargement et Exploration des Données\n",
    "\n",
    "Dans cette section, nous importons les jeux de données nécessaires (films, notes, utilisateurs) et réalisons une première exploration. L'objectif est de comprendre la structure des données, d'identifier d'éventuelles valeurs manquantes, et de dégager des tendances générales qui orienteront la suite de l'analyse."
   ]
  },
  {
   "cell_type": "code",
   "execution_count": 22,
   "id": "953a6063",
   "metadata": {},
   "outputs": [
    {
     "name": "stdout",
     "output_type": "stream",
     "text": [
      "Films :\n"
     ]
    },
    {
     "data": {
      "text/html": [
       "<div>\n",
       "<style scoped>\n",
       "    .dataframe tbody tr th:only-of-type {\n",
       "        vertical-align: middle;\n",
       "    }\n",
       "\n",
       "    .dataframe tbody tr th {\n",
       "        vertical-align: top;\n",
       "    }\n",
       "\n",
       "    .dataframe thead th {\n",
       "        text-align: right;\n",
       "    }\n",
       "</style>\n",
       "<table border=\"1\" class=\"dataframe\">\n",
       "  <thead>\n",
       "    <tr style=\"text-align: right;\">\n",
       "      <th></th>\n",
       "      <th>movieId</th>\n",
       "      <th>titles</th>\n",
       "      <th>genres</th>\n",
       "    </tr>\n",
       "  </thead>\n",
       "  <tbody>\n",
       "    <tr>\n",
       "      <th>0</th>\n",
       "      <td>1</td>\n",
       "      <td>Toy Story (1995)</td>\n",
       "      <td>Animation|Children's|Comedy</td>\n",
       "    </tr>\n",
       "    <tr>\n",
       "      <th>1</th>\n",
       "      <td>2</td>\n",
       "      <td>Jumanji (1995)</td>\n",
       "      <td>Adventure|Children's|Fantasy</td>\n",
       "    </tr>\n",
       "    <tr>\n",
       "      <th>2</th>\n",
       "      <td>3</td>\n",
       "      <td>Grumpier Old Men (1995)</td>\n",
       "      <td>Comedy|Romance</td>\n",
       "    </tr>\n",
       "    <tr>\n",
       "      <th>3</th>\n",
       "      <td>4</td>\n",
       "      <td>Waiting to Exhale (1995)</td>\n",
       "      <td>Comedy|Drama</td>\n",
       "    </tr>\n",
       "    <tr>\n",
       "      <th>4</th>\n",
       "      <td>5</td>\n",
       "      <td>Father of the Bride Part II (1995)</td>\n",
       "      <td>Comedy</td>\n",
       "    </tr>\n",
       "  </tbody>\n",
       "</table>\n",
       "</div>"
      ],
      "text/plain": [
       "   movieId                              titles                        genres\n",
       "0        1                    Toy Story (1995)   Animation|Children's|Comedy\n",
       "1        2                      Jumanji (1995)  Adventure|Children's|Fantasy\n",
       "2        3             Grumpier Old Men (1995)                Comedy|Romance\n",
       "3        4            Waiting to Exhale (1995)                  Comedy|Drama\n",
       "4        5  Father of the Bride Part II (1995)                        Comedy"
      ]
     },
     "metadata": {},
     "output_type": "display_data"
    },
    {
     "name": "stdout",
     "output_type": "stream",
     "text": [
      "Notes :\n"
     ]
    },
    {
     "data": {
      "text/html": [
       "<div>\n",
       "<style scoped>\n",
       "    .dataframe tbody tr th:only-of-type {\n",
       "        vertical-align: middle;\n",
       "    }\n",
       "\n",
       "    .dataframe tbody tr th {\n",
       "        vertical-align: top;\n",
       "    }\n",
       "\n",
       "    .dataframe thead th {\n",
       "        text-align: right;\n",
       "    }\n",
       "</style>\n",
       "<table border=\"1\" class=\"dataframe\">\n",
       "  <thead>\n",
       "    <tr style=\"text-align: right;\">\n",
       "      <th></th>\n",
       "      <th>userId</th>\n",
       "      <th>movieId</th>\n",
       "      <th>rating</th>\n",
       "      <th>time</th>\n",
       "    </tr>\n",
       "  </thead>\n",
       "  <tbody>\n",
       "    <tr>\n",
       "      <th>0</th>\n",
       "      <td>1</td>\n",
       "      <td>1193</td>\n",
       "      <td>5</td>\n",
       "      <td>978300760</td>\n",
       "    </tr>\n",
       "    <tr>\n",
       "      <th>1</th>\n",
       "      <td>1</td>\n",
       "      <td>661</td>\n",
       "      <td>3</td>\n",
       "      <td>978302109</td>\n",
       "    </tr>\n",
       "    <tr>\n",
       "      <th>2</th>\n",
       "      <td>1</td>\n",
       "      <td>914</td>\n",
       "      <td>3</td>\n",
       "      <td>978301968</td>\n",
       "    </tr>\n",
       "    <tr>\n",
       "      <th>3</th>\n",
       "      <td>1</td>\n",
       "      <td>3408</td>\n",
       "      <td>4</td>\n",
       "      <td>978300275</td>\n",
       "    </tr>\n",
       "    <tr>\n",
       "      <th>4</th>\n",
       "      <td>1</td>\n",
       "      <td>2355</td>\n",
       "      <td>5</td>\n",
       "      <td>978824291</td>\n",
       "    </tr>\n",
       "  </tbody>\n",
       "</table>\n",
       "</div>"
      ],
      "text/plain": [
       "   userId  movieId  rating       time\n",
       "0       1     1193       5  978300760\n",
       "1       1      661       3  978302109\n",
       "2       1      914       3  978301968\n",
       "3       1     3408       4  978300275\n",
       "4       1     2355       5  978824291"
      ]
     },
     "metadata": {},
     "output_type": "display_data"
    },
    {
     "name": "stdout",
     "output_type": "stream",
     "text": [
      "Utilisateurs :\n"
     ]
    },
    {
     "data": {
      "text/html": [
       "<div>\n",
       "<style scoped>\n",
       "    .dataframe tbody tr th:only-of-type {\n",
       "        vertical-align: middle;\n",
       "    }\n",
       "\n",
       "    .dataframe tbody tr th {\n",
       "        vertical-align: top;\n",
       "    }\n",
       "\n",
       "    .dataframe thead th {\n",
       "        text-align: right;\n",
       "    }\n",
       "</style>\n",
       "<table border=\"1\" class=\"dataframe\">\n",
       "  <thead>\n",
       "    <tr style=\"text-align: right;\">\n",
       "      <th></th>\n",
       "      <th>userId</th>\n",
       "      <th>gender</th>\n",
       "      <th>age</th>\n",
       "      <th>Occupation</th>\n",
       "      <th>Zip-code</th>\n",
       "    </tr>\n",
       "  </thead>\n",
       "  <tbody>\n",
       "    <tr>\n",
       "      <th>0</th>\n",
       "      <td>1</td>\n",
       "      <td>F</td>\n",
       "      <td>1</td>\n",
       "      <td>10</td>\n",
       "      <td>48067</td>\n",
       "    </tr>\n",
       "    <tr>\n",
       "      <th>1</th>\n",
       "      <td>2</td>\n",
       "      <td>M</td>\n",
       "      <td>56</td>\n",
       "      <td>16</td>\n",
       "      <td>70072</td>\n",
       "    </tr>\n",
       "    <tr>\n",
       "      <th>2</th>\n",
       "      <td>3</td>\n",
       "      <td>M</td>\n",
       "      <td>25</td>\n",
       "      <td>15</td>\n",
       "      <td>55117</td>\n",
       "    </tr>\n",
       "    <tr>\n",
       "      <th>3</th>\n",
       "      <td>4</td>\n",
       "      <td>M</td>\n",
       "      <td>45</td>\n",
       "      <td>7</td>\n",
       "      <td>02460</td>\n",
       "    </tr>\n",
       "    <tr>\n",
       "      <th>4</th>\n",
       "      <td>5</td>\n",
       "      <td>M</td>\n",
       "      <td>25</td>\n",
       "      <td>20</td>\n",
       "      <td>55455</td>\n",
       "    </tr>\n",
       "  </tbody>\n",
       "</table>\n",
       "</div>"
      ],
      "text/plain": [
       "   userId gender  age  Occupation Zip-code\n",
       "0       1      F    1          10    48067\n",
       "1       2      M   56          16    70072\n",
       "2       3      M   25          15    55117\n",
       "3       4      M   45           7    02460\n",
       "4       5      M   25          20    55455"
      ]
     },
     "metadata": {},
     "output_type": "display_data"
    }
   ],
   "source": [
    "import pandas as pd\n",
    "import numpy as np\n",
    "import matplotlib.pyplot as plt\n",
    "import seaborn as sns\n",
    "from sklearn.metrics.pairwise import cosine_similarity\n",
    "\n",
    "# Chargement des données\n",
    "movies = pd.read_csv('movies.csv')\n",
    "ratings = pd.read_csv('ratings.csv')\n",
    "users = pd.read_csv('users.csv')\n",
    "\n",
    "print('Films :')\n",
    "display(movies.head())\n",
    "print('Notes :')\n",
    "display(ratings.head())\n",
    "print('Utilisateurs :')\n",
    "display(users.head())"
   ]
  },
  {
   "cell_type": "markdown",
   "id": "f24dc422",
   "metadata": {},
   "source": [
    "**Remarque :**\n",
    "L'affichage des premières lignes des jeux de données permet de vérifier leur structure et leur contenu. On constate que les fichiers sont correctement chargés et que les colonnes principales (identifiants, titres, genres, notes, etc.) sont présentes. Cela valide la qualité initiale des données pour la suite de l'analyse."
   ]
  },
  {
   "cell_type": "code",
   "execution_count": 23,
   "id": "f15fde67",
   "metadata": {},
   "outputs": [
    {
     "name": "stdout",
     "output_type": "stream",
     "text": [
      "Valeurs manquantes dans les films :\n",
      "movieId    0\n",
      "titles     0\n",
      "genres     0\n",
      "dtype: int64\n",
      "Valeurs manquantes dans les notes :\n",
      "userId     0\n",
      "movieId    0\n",
      "rating     0\n",
      "time       0\n",
      "dtype: int64\n",
      "Valeurs manquantes dans les utilisateurs :\n",
      "userId        0\n",
      "gender        0\n",
      "age           0\n",
      "Occupation    0\n",
      "Zip-code      0\n",
      "dtype: int64\n",
      "\n",
      "Statistiques des notes :\n",
      "count    1.000209e+06\n",
      "mean     3.581564e+00\n",
      "std      1.117102e+00\n",
      "min      1.000000e+00\n",
      "25%      3.000000e+00\n",
      "50%      4.000000e+00\n",
      "75%      4.000000e+00\n",
      "max      5.000000e+00\n",
      "Name: rating, dtype: float64\n"
     ]
    }
   ],
   "source": [
    "# Analyse rapide\n",
    "print('Valeurs manquantes dans les films :')\n",
    "print(movies.isnull().sum())\n",
    "print('Valeurs manquantes dans les notes :')\n",
    "print(ratings.isnull().sum())\n",
    "print('Valeurs manquantes dans les utilisateurs :')\n",
    "print(users.isnull().sum())\n",
    "print('\\nStatistiques des notes :')\n",
    "print(ratings['rating'].describe())"
   ]
  },
  {
   "cell_type": "markdown",
   "id": "ef837716",
   "metadata": {},
   "source": [
    "**Remarque :**\n",
    "L'analyse des valeurs manquantes montre que les jeux de données sont complets ou que les valeurs manquantes sont négligeables. Les statistiques descriptives des notes révèlent la tendance centrale et la dispersion, ce qui est utile pour comprendre la distribution des préférences utilisateurs."
   ]
  },
  {
   "cell_type": "code",
   "execution_count": 24,
   "id": "002f4f84",
   "metadata": {},
   "outputs": [
    {
     "data": {
      "text/plain": [
       "gender\n",
       "M    4331\n",
       "F    1709\n",
       "Name: count, dtype: int64"
      ]
     },
     "metadata": {},
     "output_type": "display_data"
    },
    {
     "data": {
      "text/plain": [
       "Occupation\n",
       "4     759\n",
       "0     711\n",
       "7     679\n",
       "1     528\n",
       "17    502\n",
       "12    388\n",
       "14    302\n",
       "20    281\n",
       "2     267\n",
       "16    241\n",
       "6     236\n",
       "10    195\n",
       "3     173\n",
       "15    144\n",
       "13    142\n",
       "11    129\n",
       "5     112\n",
       "9      92\n",
       "19     72\n",
       "18     70\n",
       "8      17\n",
       "Name: count, dtype: int64"
      ]
     },
     "metadata": {},
     "output_type": "display_data"
    },
    {
     "name": "stdout",
     "output_type": "stream",
     "text": [
      "Nombre de combinaisons de genres uniques : 301\n"
     ]
    }
   ],
   "source": [
    "# Visualisation rapide\n",
    "display(users['gender'].value_counts())\n",
    "display(users['Occupation'].value_counts())\n",
    "print(f\"Nombre de combinaisons de genres uniques : {movies['genres'].nunique()}\")\n",
    "movies['genres_list'] = movies['genres'].str.split('|')"
   ]
  },
  {
   "cell_type": "markdown",
   "id": "fd7543c6",
   "metadata": {},
   "source": [
    "**Remarque :**\n",
    "La répartition des genres et des professions des utilisateurs, ainsi que la diversité des genres de films, indiquent une bonne hétérogénéité des données. Cela favorise la robustesse des modèles de recommandation."
   ]
  },
  {
   "cell_type": "code",
   "execution_count": 38,
   "id": "367cb8bc",
   "metadata": {},
   "outputs": [
    {
     "name": "stderr",
     "output_type": "stream",
     "text": [
      "C:\\Users\\abde4\\AppData\\Local\\Temp\\ipykernel_17224\\998143011.py:2: FutureWarning: \n",
      "\n",
      "Passing `palette` without assigning `hue` is deprecated and will be removed in v0.14.0. Assign the `x` variable to `hue` and set `legend=False` for the same effect.\n",
      "\n",
      "  sns.countplot(x='gender', data=users, palette='viridis')\n"
     ]
    },
    {
     "data": {
      "image/png": "[encoded data removed]",
      "text/plain": [
       "<Figure size 600x400 with 1 Axes>"
      ]
     },
     "metadata": {},
     "output_type": "display_data"
    }
   ],
   "source": [
    "plt.figure(figsize=(6, 4))\n",
    "sns.countplot(x='gender', data=users, palette='viridis')\n",
    "plt.title('Répartition des genres utilisateurs')\n",
    "plt.show();\n"
   ]
  },
  {
   "cell_type": "code",
   "execution_count": 40,
   "id": "64cda93b",
   "metadata": {},
   "outputs": [
    {
     "name": "stderr",
     "output_type": "stream",
     "text": [
      "C:\\Users\\abde4\\AppData\\Local\\Temp\\ipykernel_17224\\3672195646.py:2: FutureWarning: \n",
      "\n",
      "Passing `palette` without assigning `hue` is deprecated and will be removed in v0.14.0. Assign the `x` variable to `hue` and set `legend=False` for the same effect.\n",
      "\n",
      "  sns.countplot(x='Occupation', data=users, palette='viridis', order=users['Occupation'].value_counts().index)\n"
     ]
    },
    {
     "data": {
      "image/png": "[encoded data removed]",
      "text/plain": [
       "<Figure size 1200x600 with 1 Axes>"
      ]
     },
     "metadata": {},
     "output_type": "display_data"
    }
   ],
   "source": [
    "plt.figure(figsize=(12, 6))\n",
    "sns.countplot(x='Occupation', data=users, palette='viridis', order=users['Occupation'].value_counts().index)\n",
    "plt.title('Répartition des professions')\n",
    "plt.xticks(rotation=45)\n",
    "plt.show();\n"
   ]
  },
  {
   "cell_type": "code",
   "execution_count": 42,
   "id": "8d2faf75",
   "metadata": {},
   "outputs": [
    {
     "name": "stderr",
     "output_type": "stream",
     "text": [
      "C:\\Users\\abde4\\AppData\\Local\\Temp\\ipykernel_17224\\2421301201.py:2: FutureWarning: \n",
      "\n",
      "Passing `palette` without assigning `hue` is deprecated and will be removed in v0.14.0. Assign the `x` variable to `hue` and set `legend=False` for the same effect.\n",
      "\n",
      "  sns.countplot(x='rating', data=ratings, palette='magma')\n"
     ]
    },
    {
     "data": {
      "image/png": "[encoded data removed]",
      "text/plain": [
       "<Figure size 800x500 with 1 Axes>"
      ]
     },
     "metadata": {},
     "output_type": "display_data"
    }
   ],
   "source": [
    "plt.figure(figsize=(8, 5))\n",
    "sns.countplot(x='rating', data=ratings, palette='magma')\n",
    "plt.title('Distribution des notes de films')\n",
    "plt.show()"
   ]
  },
  {
   "cell_type": "markdown",
   "id": "b89b1954",
   "metadata": {},
   "source": [
    "**Remarque :**\n",
    "Les graphiques confirment la diversité des utilisateurs et des films. La distribution des notes montre une légère tendance à la surévaluation, phénomène courant dans les systèmes de recommandation."
   ]
  },
  {
   "cell_type": "markdown",
   "id": "557f47fa",
   "metadata": {},
   "source": [
    "## 2. Préparation des Données\n",
    "\n",
    "Avant d'entraîner les modèles de recommandation, il est essentiel de nettoyer les données, de traiter les valeurs manquantes et de préparer les jeux d'entraînement et de test. Cette étape garantit la qualité des résultats et la reproductibilité des expériences."
   ]
  },
  {
   "cell_type": "code",
   "execution_count": 26,
   "id": "22e258ad",
   "metadata": {},
   "outputs": [
    {
     "name": "stdout",
     "output_type": "stream",
     "text": [
      "Taille train : 800167, test : 200042\n"
     ]
    }
   ],
   "source": [
    "# Nettoyage\n",
    "movies = movies.dropna()\n",
    "ratings = ratings.dropna()\n",
    "users = users.dropna()\n",
    "\n",
    "# Fusion pour analyses avancées\n",
    "ratings_full = ratings.merge(movies, on='movieId').merge(users, on='userId')\n",
    "\n",
    "from sklearn.model_selection import train_test_split\n",
    "train_data, test_data = train_test_split(ratings_full, test_size=0.2, random_state=42)\n",
    "print(f\"Taille train : {len(train_data)}, test : {len(test_data)}\")"
   ]
  },
  {
   "cell_type": "markdown",
   "id": "99329442",
   "metadata": {},
   "source": [
    "**Remarque :**\n",
    "Après nettoyage, la taille des jeux d'entraînement et de test est suffisante pour garantir une évaluation fiable des modèles. La fusion des données permet d'enrichir les analyses futures."
   ]
  },
  {
   "cell_type": "code",
   "execution_count": 27,
   "id": "7b680123",
   "metadata": {},
   "outputs": [
    {
     "name": "stdout",
     "output_type": "stream",
     "text": [
      "                               titles  year  year_norm\n",
      "0                    Toy Story (1995)  1995   0.938272\n",
      "1                      Jumanji (1995)  1995   0.938272\n",
      "2             Grumpier Old Men (1995)  1995   0.938272\n",
      "3            Waiting to Exhale (1995)  1995   0.938272\n",
      "4  Father of the Bride Part II (1995)  1995   0.938272\n"
     ]
    }
   ],
   "source": [
    "# Suppression des notes aberrantes (outliers)\n",
    "q_low = ratings['rating'].quantile(0.01)\n",
    "q_high = ratings['rating'].quantile(0.99)\n",
    "ratings = ratings[(ratings['rating'] >= q_low) & (ratings['rating'] <= q_high)]\n",
    "\n",
    "# Suppression des utilisateurs/films trop peu actifs\n",
    "min_ratings_user = 5\n",
    "min_ratings_movie = 5\n",
    "user_counts = ratings['userId'].value_counts()\n",
    "movie_counts = ratings['movieId'].value_counts()\n",
    "ratings = ratings[ratings['userId'].isin(user_counts[user_counts >= min_ratings_user].index)]\n",
    "ratings = ratings[ratings['movieId'].isin(movie_counts[movie_counts >= min_ratings_movie].index)]\n",
    "\n",
    "# Extraction de l'année depuis le titre du film\n",
    "import re\n",
    "def extract_year(title):\n",
    "    match = re.search(r'\\((\\d{4})\\)', title)\n",
    "    return int(match.group(1)) if match else np.nan\n",
    "movies['year'] = movies['titles'].apply(extract_year)\n",
    "\n",
    "# Encodage des genres (one-hot)\n",
    "genres_expanded = movies['genres'].str.get_dummies('|')\n",
    "movies = pd.concat([movies, genres_expanded], axis=1)\n",
    "\n",
    "# Normalisation de l'année\n",
    "from sklearn.preprocessing import MinMaxScaler\n",
    "scaler = MinMaxScaler()\n",
    "movies['year_norm'] = scaler.fit_transform(movies[['year']].fillna(movies['year'].median()))\n",
    "\n",
    "# (Optionnel) Binning d'âge utilisateur si données disponibles\n",
    "if 'age' in users.columns:\n",
    "    users['age_bin'] = pd.cut(users['age'], bins=[0,18,25,35,45,55,65,100], labels=False)\n",
    "\n",
    "print(movies[['titles','year','year_norm']].head())"
   ]
  },
  {
   "cell_type": "markdown",
   "id": "3466db03",
   "metadata": {},
   "source": [
    "## 3. Algorithmes de Recommandation\n",
    "\n",
    "### 3.1 Filtrage Collaboratif KNN (utilisateur & item)\n",
    "\n",
    "Le filtrage collaboratif repose sur l'exploitation des interactions passées entre utilisateurs et items pour prédire de nouvelles préférences. Deux variantes principales sont explorées :\n",
    "- **KNN utilisateur** : recommandations basées sur la similarité entre utilisateurs.\n",
    "- **KNN item** : recommandations basées sur la similarité entre items (films).\n",
    "\n",
    "Nous utilisons la bibliothèque Surprise pour implémenter ces méthodes et évaluer leurs performances."
   ]
  },
  {
   "cell_type": "code",
   "execution_count": 28,
   "id": "8296b4c1",
   "metadata": {},
   "outputs": [
    {
     "name": "stdout",
     "output_type": "stream",
     "text": [
      "Computing the msd similarity matrix...\n",
      "Done computing similarity matrix.\n",
      "Done computing similarity matrix.\n",
      "Computing the msd similarity matrix...\n",
      "Done computing similarity matrix.\n",
      "Computing the msd similarity matrix...\n",
      "Done computing similarity matrix.\n"
     ]
    }
   ],
   "source": [
    "from surprise import Dataset, Reader, KNNBasic, accuracy\n",
    "from surprise.model_selection import train_test_split as surprise_train_test_split\n",
    "\n",
    "reader = Reader(rating_scale=(ratings['rating'].min(), ratings['rating'].max()))\n",
    "data = Dataset.load_from_df(ratings[['userId', 'movieId', 'rating']], reader)\n",
    "trainset, testset = surprise_train_test_split(data, test_size=0.2, random_state=42)\n",
    "\n",
    "algo_user = KNNBasic(sim_options={'user_based': True})\n",
    "algo_user.fit(trainset)\n",
    "predictions_user = algo_user.test(testset)\n",
    "\n",
    "algo_item = KNNBasic(sim_options={'user_based': False})\n",
    "algo_item.fit(trainset)\n",
    "predictions_item = algo_item.test(testset)"
   ]
  },
  {
   "cell_type": "markdown",
   "id": "4a535748",
   "metadata": {},
   "source": [
    "**Remarque :**\n",
    "Les modèles KNN utilisateur et item sont entraînés avec succès. Ces approches serviront de base pour comparer les performances avec les méthodes de factorisation de matrices."
   ]
  },
  {
   "cell_type": "markdown",
   "id": "2717e11b",
   "metadata": {},
   "source": [
    "### 3.2 Factorisation de Matrices (SVD, NMF)\n",
    "\n",
    "La factorisation de matrices est une approche puissante pour la recommandation, permettant de capturer des relations latentes entre utilisateurs et films. Nous implémentons deux techniques :\n",
    "- **SVD (Singular Value Decomposition)** : décomposition de la matrice de notes pour extraire des facteurs latents.\n",
    "- **NMF (Non-negative Matrix Factorization)** : factorisation sous contrainte de positivité, adaptée aux données de recommandation.\n",
    "\n",
    "Ces méthodes sont particulièrement efficaces pour gérer la sparsité des données et améliorer la qualité des recommandations."
   ]
  },
  {
   "cell_type": "code",
   "execution_count": 29,
   "id": "f60e0eef",
   "metadata": {},
   "outputs": [
    {
     "name": "stdout",
     "output_type": "stream",
     "text": [
      "Entraînement SVD...\n",
      "Entraînement NMF...\n",
      "Entraînement NMF...\n"
     ]
    },
    {
     "data": {
      "text/plain": [
       "<surprise.prediction_algorithms.matrix_factorization.NMF at 0x1279e185de0>"
      ]
     },
     "execution_count": 29,
     "metadata": {},
     "output_type": "execute_result"
    }
   ],
   "source": [
    "from surprise import SVD, NMF\n",
    "import time\n",
    "\n",
    "svd_model = SVD(n_factors=100, n_epochs=20, lr_all=0.005, reg_all=0.02, random_state=42)\n",
    "print(\"Entraînement SVD...\")\n",
    "svd_model.fit(trainset)\n",
    "nmf_model = NMF(n_factors=15, n_epochs=50, random_state=42)\n",
    "print(\"Entraînement NMF...\")\n",
    "nmf_model.fit(trainset)"
   ]
  },
  {
   "cell_type": "markdown",
   "id": "9539009c",
   "metadata": {},
   "source": [
    "**Remarque :**\n",
    "L'entraînement des modèles SVD et NMF s'est déroulé sans problème. Ces techniques devraient permettre de mieux capturer les relations latentes dans les données, en particulier pour les utilisateurs ou films peu notés."
   ]
  },
  {
   "cell_type": "markdown",
   "id": "065df2a0",
   "metadata": {},
   "source": [
    "### 3.3 Popularité\n",
    "\n",
    "La recommandation basée sur la popularité consiste à suggérer les films les mieux notés et les plus fréquemment évalués par l'ensemble des utilisateurs. Cette méthode simple sert de référence (baseline) pour comparer la pertinence des approches plus avancées."
   ]
  },
  {
   "cell_type": "code",
   "execution_count": 30,
   "id": "5ccf4c65",
   "metadata": {},
   "outputs": [
    {
     "name": "stdout",
     "output_type": "stream",
     "text": [
      "Top 10 films populaires :\n",
      "                                              titles  AvgRating  RatingsNum\n",
      "0                             American Beauty (1999)   4.317386        3428\n",
      "1          Star Wars: Episode IV - A New Hope (1977)   4.453694        2991\n",
      "2  Star Wars: Episode V - The Empire Strikes Back...   4.292977        2990\n",
      "3  Star Wars: Episode VI - Return of the Jedi (1983)   4.022893        2883\n",
      "4                         Saving Private Ryan (1998)   4.337354        2653\n",
      "5                  Terminator 2: Judgment Day (1991)   4.058513        2649\n",
      "6                                 Matrix, The (1999)   4.315830        2590\n",
      "7                   Silence of the Lambs, The (1991)   4.351823        2578\n",
      "8                     Raiders of the Lost Ark (1981)   4.477725        2514\n",
      "9                                       Fargo (1996)   4.254676        2513\n"
     ]
    }
   ],
   "source": [
    "popularity_df = ratings.groupby('movieId').agg(RatingsNum=('rating', 'size'), AvgRating=('rating', 'mean')).reset_index()\n",
    "popular_movies = popularity_df[(popularity_df['RatingsNum'] >= 50) & (popularity_df['AvgRating'] >= 4.0)]\n",
    "popular_movies = popular_movies.sort_values(by='RatingsNum', ascending=False)\n",
    "popular_movies = popular_movies.merge(movies[['movieId', 'titles']], on='movieId')\n",
    "print('Top 10 films populaires :')\n",
    "print(popular_movies[['titles', 'AvgRating', 'RatingsNum']].head(10))"
   ]
  },
  {
   "cell_type": "markdown",
   "id": "21581f50",
   "metadata": {},
   "source": [
    "**Remarque :**\n",
    "Les films les plus populaires sont ceux qui cumulent un grand nombre de notes et une note moyenne élevée. Cette approche met en avant les succès universels, mais ne tient pas compte des préférences individuelles."
   ]
  },
  {
   "cell_type": "markdown",
   "id": "eb0479ce",
   "metadata": {},
   "source": [
    "### 3.4 IBCF (Filtrage Collaboratif Item-Item)\n",
    "\n",
    "Le filtrage collaboratif basé sur la similarité entre items (IBCF) recommande des films similaires à ceux déjà appréciés par l'utilisateur. Cette méthode exploite la structure de la matrice utilisateur-film pour calculer des scores de similarité et générer des recommandations personnalisées."
   ]
  },
  {
   "cell_type": "code",
   "execution_count": 31,
   "id": "aea477f6",
   "metadata": {},
   "outputs": [
    {
     "name": "stdout",
     "output_type": "stream",
     "text": [
      "Top 5 recommandations IBCF pour l'utilisateur 1 :\n",
      "                                                 titles\n",
      "315                    Shawshank Redemption, The (1994)\n",
      "360                               Lion King, The (1994)\n",
      "1178  Star Wars: Episode V - The Empire Strikes Back...\n",
      "1180                     Raiders of the Lost Ark (1981)\n",
      "1245                               Groundhog Day (1993)\n"
     ]
    }
   ],
   "source": [
    "user_movie_matrix = ratings.pivot_table(index='userId', columns='movieId', values='rating')\n",
    "item_similarity = cosine_similarity(user_movie_matrix.fillna(0).T)\n",
    "item_similarity_df = pd.DataFrame(item_similarity, index=user_movie_matrix.columns, columns=user_movie_matrix.columns)\n",
    "\n",
    "def get_ibcf_recommendations(user_id, n=5):\n",
    "    user_ratings = user_movie_matrix.loc[user_id]\n",
    "    rated_movies = user_ratings.dropna().index\n",
    "    scores = pd.Series(0, index=user_movie_matrix.columns)\n",
    "    for movie in rated_movies:\n",
    "        sim_scores = item_similarity_df[movie] * user_ratings[movie]\n",
    "        scores = scores.add(sim_scores, fill_value=0)\n",
    "    scores = scores.drop(rated_movies)\n",
    "    top_n = scores.sort_values(ascending=False).head(n)\n",
    "    return movies[movies['movieId'].isin(top_n.index)][['titles']]\n",
    "\n",
    "print('Top 5 recommandations IBCF pour l\\'utilisateur 1 :')\n",
    "print(get_ibcf_recommendations(1, n=5))"
   ]
  },
  {
   "cell_type": "markdown",
   "id": "c41dba05",
   "metadata": {},
   "source": [
    "**Remarque :**\n",
    "L'algorithme IBCF recommande des films similaires à ceux déjà appréciés par l'utilisateur. Les résultats dépendent fortement des films déjà notés et de la structure de similarité calculée."
   ]
  },
  {
   "cell_type": "markdown",
   "id": "6d16664c",
   "metadata": {},
   "source": [
    "#### IBCF avec Normalisation (Centrage Utilisateur)\n",
    "\n",
    "Pour améliorer la pertinence des recommandations, il est possible de normaliser les notes de chaque utilisateur (centrage). Cette variante du filtrage item-item permet de corriger les biais individuels et d'obtenir des scores de similarité plus robustes."
   ]
  },
  {
   "cell_type": "code",
   "execution_count": 32,
   "id": "398166aa",
   "metadata": {},
   "outputs": [
    {
     "name": "stdout",
     "output_type": "stream",
     "text": [
      "Top 5 recommandations IBCF (centré utilisateur) pour l'utilisateur 1 :\n",
      "                                titles\n",
      "108                  Braveheart (1995)\n",
      "315   Shawshank Redemption, The (1994)\n",
      "352                Forrest Gump (1994)\n",
      "586          Dances with Wolves (1990)\n",
      "1252                     Patton (1970)\n"
     ]
    }
   ],
   "source": [
    "user_movie_matrix_centered = user_movie_matrix.sub(user_movie_matrix.mean(axis=1), axis=0)\n",
    "item_similarity_centered = cosine_similarity(user_movie_matrix_centered.fillna(0).T)\n",
    "item_similarity_centered_df = pd.DataFrame(item_similarity_centered, index=user_movie_matrix.columns, columns=user_movie_matrix.columns)\n",
    "\n",
    "def get_ibcf_recommendations_centered(user_id, n=5):\n",
    "    user_ratings = user_movie_matrix_centered.loc[user_id]\n",
    "    rated_movies = user_ratings.dropna().index\n",
    "    scores = pd.Series(0, index=user_movie_matrix.columns)\n",
    "    for movie in rated_movies:\n",
    "        sim_scores = item_similarity_centered_df[movie] * user_ratings[movie]\n",
    "        scores = scores.add(sim_scores, fill_value=0)\n",
    "    scores = scores.drop(rated_movies)\n",
    "    top_n = scores.sort_values(ascending=False).head(n)\n",
    "    return movies[movies['movieId'].isin(top_n.index)][['titles']]\n",
    "\n",
    "print(\"Top 5 recommandations IBCF (centré utilisateur) pour l'utilisateur 1 :\")\n",
    "print(get_ibcf_recommendations_centered(1, n=5))"
   ]
  },
  {
   "cell_type": "markdown",
   "id": "798ddd0d",
   "metadata": {},
   "source": [
    "**Remarque :**\n",
    "La normalisation des notes améliore la pertinence des recommandations en tenant compte des biais de notation propres à chaque utilisateur. Cela permet d'obtenir des suggestions plus personnalisées."
   ]
  },
  {
   "cell_type": "markdown",
   "id": "8386da07",
   "metadata": {},
   "source": [
    "## 4. Évaluation et Comparaison Globale des Algorithmes\n",
    "\n",
    "Dans cette section, nous évaluons quantitativement les performances des différents algorithmes à l'aide de métriques standards telles que le RMSE (Root Mean Squared Error) et le MAE (Mean Absolute Error). Un tableau comparatif et des visualisations permettent d'identifier les méthodes les plus efficaces pour notre jeu de données."
   ]
  },
  {
   "cell_type": "code",
   "execution_count": 33,
   "id": "6920b390",
   "metadata": {},
   "outputs": [
    {
     "name": "stdout",
     "output_type": "stream",
     "text": [
      "RMSE: 0.9209\n",
      "MAE:  0.7264\n",
      "RMSE: 0.9124\n",
      "MAE:  0.7188\n",
      "RMSE: 0.9124\n",
      "MAE:  0.7188\n",
      "RMSE: 0.8726\n",
      "MAE:  0.6857\n",
      "RMSE: 0.8726\n",
      "MAE:  0.6857\n",
      "RMSE: 0.9143\n",
      "MAE:  0.7235\n",
      "            Modèle      RMSE       MAE\n",
      "0  KNN utilisateur  0.920886  0.726433\n",
      "1         KNN item  0.912392  0.718767\n",
      "2              SVD  0.872562  0.685657\n",
      "3              NMF  0.914335  0.723521\n",
      "RMSE: 0.9143\n",
      "MAE:  0.7235\n",
      "            Modèle      RMSE       MAE\n",
      "0  KNN utilisateur  0.920886  0.726433\n",
      "1         KNN item  0.912392  0.718767\n",
      "2              SVD  0.872562  0.685657\n",
      "3              NMF  0.914335  0.723521\n"
     ]
    },
    {
     "data": {
      "image/png": "[encoded data removed]",
      "text/plain": [
       "<Figure size 800x500 with 1 Axes>"
      ]
     },
     "metadata": {},
     "output_type": "display_data"
    }
   ],
   "source": [
    "# Évaluation KNN\n",
    "from surprise import accuracy\n",
    "rmse_user = accuracy.rmse(predictions_user)\n",
    "mae_user = accuracy.mae(predictions_user)\n",
    "rmse_item = accuracy.rmse(predictions_item)\n",
    "mae_item = accuracy.mae(predictions_item)\n",
    "\n",
    "# Évaluation SVD/NMF\n",
    "predictions_svd = svd_model.test(testset)\n",
    "rmse_svd = accuracy.rmse(predictions_svd)\n",
    "mae_svd = accuracy.mae(predictions_svd)\n",
    "predictions_nmf = nmf_model.test(testset)\n",
    "rmse_nmf = accuracy.rmse(predictions_nmf)\n",
    "mae_nmf = accuracy.mae(predictions_nmf)\n",
    "\n",
    "# Tableau comparatif\n",
    "metrics = pd.DataFrame({\n",
    "    'Modèle': ['KNN utilisateur', 'KNN item', 'SVD', 'NMF'],\n",
    "    'RMSE': [rmse_user, rmse_item, rmse_svd, rmse_nmf],\n",
    "    'MAE': [mae_user, mae_item, mae_svd, mae_nmf]\n",
    "})\n",
    "print(metrics)\n",
    "metrics.set_index('Modèle').plot(kind='bar', figsize=(8,5))\n",
    "plt.title('Comparaison des performances des modèles')\n",
    "plt.ylabel('Erreur')\n",
    "plt.show()"
   ]
  },
  {
   "cell_type": "markdown",
   "id": "6fe66900",
   "metadata": {},
   "source": [
    "**Remarque :**\n",
    "Les métriques RMSE et MAE permettent de comparer objectivement les performances des différents modèles. Un score plus faible indique une meilleure capacité de prédiction. Le graphique comparatif facilite l'identification du modèle le plus performant."
   ]
  },
  {
   "cell_type": "markdown",
   "id": "9794a273",
   "metadata": {},
   "source": [
    "## 5. Visualisation et Analyse\n",
    "\n",
    "Des visualisations graphiques sont proposées pour illustrer la distribution des notes, la répartition des évaluations par film, et d'autres aspects clés des données. Ces analyses facilitent l'interprétation des résultats et la compréhension des comportements utilisateurs."
   ]
  },
  {
   "cell_type": "code",
   "execution_count": 34,
   "id": "ae39ab30",
   "metadata": {},
   "outputs": [
    {
     "data": {
      "image/png": "[encoded data removed]",
      "text/plain": [
       "<Figure size 600x400 with 1 Axes>"
      ]
     },
     "metadata": {},
     "output_type": "display_data"
    },
    {
     "data": {
      "image/png": "[encoded data removed]",
      "text/plain": [
       "<Figure size 600x400 with 1 Axes>"
      ]
     },
     "metadata": {},
     "output_type": "display_data"
    }
   ],
   "source": [
    "plt.figure(figsize=(6,4))\n",
    "sns.histplot(ratings['rating'], bins=10, kde=True)\n",
    "plt.title('Distribution des notes de films')\n",
    "plt.xlabel('Note')\n",
    "plt.ylabel('Nombre')\n",
    "plt.show()\n",
    "\n",
    "ratings_per_movie = ratings.groupby('movieId').size()\n",
    "plt.figure(figsize=(6,4))\n",
    "sns.histplot(ratings_per_movie, bins=50, log_scale=(False, True))\n",
    "plt.title('Nombre de notes par film')\n",
    "plt.xlabel('Nombre de notes')\n",
    "plt.ylabel('Nombre de films')\n",
    "plt.show()"
   ]
  },
  {
   "cell_type": "markdown",
   "id": "612769b3",
   "metadata": {},
   "source": [
    "**Remarque :**\n",
    "Les visualisations confirment la distribution des notes et la disparité du nombre d'évaluations par film. Certains films sont très populaires tandis que d'autres sont peu notés, ce qui peut influencer la qualité des recommandations."
   ]
  },
  {
   "cell_type": "markdown",
   "id": "d0bbf659",
   "metadata": {},
   "source": [
    "## 6. Génération de Recommandations : Exemples pour un Utilisateur\n",
    "\n",
    "Pour illustrer concrètement le fonctionnement des différents algorithmes, nous générons des recommandations personnalisées pour un utilisateur donné. Cette étape met en évidence les différences de résultats entre les méthodes et leur capacité à proposer des suggestions pertinentes."
   ]
  },
  {
   "cell_type": "code",
   "execution_count": 35,
   "id": "b3acd8ed",
   "metadata": {},
   "outputs": [
    {
     "name": "stdout",
     "output_type": "stream",
     "text": [
      "Top 5 recommandations pour l'utilisateur 1 (KNN utilisateur) :\n",
      "Paris, France (1993) (Note prédite : 5.00)\n",
      "Shawshank Redemption, The (1994) (Note prédite : 4.80)\n",
      "I Am Cuba (Soy Cuba/Ya Kuba) (1964) (Note prédite : 4.80)\n",
      "Sanjuro (1962) (Note prédite : 4.78)\n",
      "Apple, The (Sib) (1998) (Note prédite : 4.78)\n",
      "\n",
      "Top 5 recommandations pour l'utilisateur 1 (KNN item) :\n",
      "Love Bewitched, A (El Amor Brujo) (1986) (Note prédite : 4.58)\n",
      "Paris, France (1993) (Note prédite : 4.56)\n",
      "Delta of Venus (1994) (Note prédite : 4.53)\n",
      "Mighty Peking Man (Hsing hsing wang) (1977) (Note prédite : 4.48)\n",
      "Blood on the Sun (1945) (Note prédite : 4.46)\n",
      "\n",
      "Top 5 recommandations pour l'utilisateur 1 (SVD) :\n",
      "Sanjuro (1962) (Note prédite : 4.94)\n",
      "Dr. Strangelove or: How I Learned to Stop Worrying and Love the Bomb (1963) (Note prédite : 4.85)\n",
      "Killing Fields, The (1984) (Note prédite : 4.79)\n",
      "Yojimbo (1961) (Note prédite : 4.78)\n",
      "Forrest Gump (1994) (Note prédite : 4.78)\n",
      "\n",
      "Top 5 recommandations pour l'utilisateur 1 (NMF) :\n",
      "Paris, France (1993) (Note prédite : 5.00)\n",
      "Shawshank Redemption, The (1994) (Note prédite : 4.80)\n",
      "I Am Cuba (Soy Cuba/Ya Kuba) (1964) (Note prédite : 4.80)\n",
      "Sanjuro (1962) (Note prédite : 4.78)\n",
      "Apple, The (Sib) (1998) (Note prédite : 4.78)\n",
      "\n",
      "Top 5 recommandations pour l'utilisateur 1 (KNN item) :\n",
      "Love Bewitched, A (El Amor Brujo) (1986) (Note prédite : 4.58)\n",
      "Paris, France (1993) (Note prédite : 4.56)\n",
      "Delta of Venus (1994) (Note prédite : 4.53)\n",
      "Mighty Peking Man (Hsing hsing wang) (1977) (Note prédite : 4.48)\n",
      "Blood on the Sun (1945) (Note prédite : 4.46)\n",
      "\n",
      "Top 5 recommandations pour l'utilisateur 1 (SVD) :\n",
      "Sanjuro (1962) (Note prédite : 4.94)\n",
      "Dr. Strangelove or: How I Learned to Stop Worrying and Love the Bomb (1963) (Note prédite : 4.85)\n",
      "Killing Fields, The (1984) (Note prédite : 4.79)\n",
      "Yojimbo (1961) (Note prédite : 4.78)\n",
      "Forrest Gump (1994) (Note prédite : 4.78)\n",
      "\n",
      "Top 5 recommandations pour l'utilisateur 1 (NMF) :\n",
      "Lamerica (1994) (Note prédite : 5.00)\n",
      "Jupiter's Wife (1994) (Note prédite : 5.00)\n",
      "Shawshank Redemption, The (1994) (Note prédite : 5.00)\n",
      "Window to Paris (1994) (Note prédite : 5.00)\n",
      "Great Escape, The (1963) (Note prédite : 5.00)\n",
      "\n",
      "Top 5 recommandations pour l'utilisateur 1 (IBCF) :\n",
      "                                                 titles\n",
      "315                    Shawshank Redemption, The (1994)\n",
      "360                               Lion King, The (1994)\n",
      "1178  Star Wars: Episode V - The Empire Strikes Back...\n",
      "1180                     Raiders of the Lost Ark (1981)\n",
      "1245                               Groundhog Day (1993)\n",
      "\n",
      "Top 5 recommandations pour l'utilisateur 1 (IBCF normalisé) :\n",
      "                                titles\n",
      "108                  Braveheart (1995)\n",
      "315   Shawshank Redemption, The (1994)\n",
      "352                Forrest Gump (1994)\n",
      "586          Dances with Wolves (1990)\n",
      "1252                     Patton (1970)\n",
      "Lamerica (1994) (Note prédite : 5.00)\n",
      "Jupiter's Wife (1994) (Note prédite : 5.00)\n",
      "Shawshank Redemption, The (1994) (Note prédite : 5.00)\n",
      "Window to Paris (1994) (Note prédite : 5.00)\n",
      "Great Escape, The (1963) (Note prédite : 5.00)\n",
      "\n",
      "Top 5 recommandations pour l'utilisateur 1 (IBCF) :\n",
      "                                                 titles\n",
      "315                    Shawshank Redemption, The (1994)\n",
      "360                               Lion King, The (1994)\n",
      "1178  Star Wars: Episode V - The Empire Strikes Back...\n",
      "1180                     Raiders of the Lost Ark (1981)\n",
      "1245                               Groundhog Day (1993)\n",
      "\n",
      "Top 5 recommandations pour l'utilisateur 1 (IBCF normalisé) :\n",
      "                                titles\n",
      "108                  Braveheart (1995)\n",
      "315   Shawshank Redemption, The (1994)\n",
      "352                Forrest Gump (1994)\n",
      "586          Dances with Wolves (1990)\n",
      "1252                     Patton (1970)\n"
     ]
    }
   ],
   "source": [
    "def get_top_n_recommendations(algo, user_id, movies_df, n=5):\n",
    "    all_movie_ids = set(movies_df['movieId'])\n",
    "    rated_movie_ids = set(ratings[ratings['userId'] == user_id]['movieId'])\n",
    "    unrated_movie_ids = all_movie_ids - rated_movie_ids\n",
    "    predictions = [algo.predict(user_id, movie_id) for movie_id in unrated_movie_ids]\n",
    "    top_n = sorted(predictions, key=lambda x: x.est, reverse=True)[:n]\n",
    "    top_n_movies = [(movies_df[movies_df['movieId'] == pred.iid]['titles'].values[0], pred.est) for pred in top_n]\n",
    "    return top_n_movies\n",
    "\n",
    "user_id = 1\n",
    "print(f\"Top 5 recommandations pour l'utilisateur {user_id} (KNN utilisateur) :\")\n",
    "for title, score in get_top_n_recommendations(algo_user, user_id, movies, n=5):\n",
    "    print(f\"{title} (Note prédite : {score:.2f})\")\n",
    "print(f\"\\nTop 5 recommandations pour l'utilisateur {user_id} (KNN item) :\")\n",
    "for title, score in get_top_n_recommendations(algo_item, user_id, movies, n=5):\n",
    "    print(f\"{title} (Note prédite : {score:.2f})\")\n",
    "print(f\"\\nTop 5 recommandations pour l'utilisateur {user_id} (SVD) :\")\n",
    "for title, score in get_top_n_recommendations(svd_model, user_id, movies, n=5):\n",
    "    print(f\"{title} (Note prédite : {score:.2f})\")\n",
    "print(f\"\\nTop 5 recommandations pour l'utilisateur {user_id} (NMF) :\")\n",
    "for title, score in get_top_n_recommendations(nmf_model, user_id, movies, n=5):\n",
    "    print(f\"{title} (Note prédite : {score:.2f})\")\n",
    "print(f\"\\nTop 5 recommandations pour l'utilisateur {user_id} (IBCF) :\")\n",
    "print(get_ibcf_recommendations(user_id, n=5))\n",
    "print(f\"\\nTop 5 recommandations pour l'utilisateur {user_id} (IBCF normalisé) :\")\n",
    "print(get_ibcf_recommendations_centered(user_id, n=5))"
   ]
  },
  {
   "cell_type": "markdown",
   "id": "b1a6658e",
   "metadata": {},
   "source": [
    "**Remarque :**\n",
    "Les recommandations générées pour l'utilisateur illustrent les différences entre les algorithmes. Certains privilégient la similarité, d'autres la popularité ou les relations latentes. Cela met en évidence l'importance du choix du modèle selon le contexte d'utilisation."
   ]
  }
 ],
 "metadata": {
  "kernelspec": {
   "display_name": ".venv",
   "language": "python",
   "name": "python3"
  },
  "language_info": {
   "codemirror_mode": {
    "name": "ipython",
    "version": 3
   },
   "file_extension": ".py",
   "mimetype": "text/x-python",
   "name": "python",
   "nbconvert_exporter": "python",
   "pygments_lexer": "ipython3",
   "version": "3.10.0"
  }
 },
 "nbformat": 4,
 "nbformat_minor": 5
}
